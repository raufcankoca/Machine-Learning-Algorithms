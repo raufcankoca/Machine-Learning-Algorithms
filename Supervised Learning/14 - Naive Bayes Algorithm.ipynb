{
 "cells": [
  {
   "cell_type": "markdown",
   "id": "2dbbcf58",
   "metadata": {},
   "source": [
    "# 14 - Naive Bayes Algorithm"
   ]
  },
  {
   "attachments": {
    "naive-bayes-classifier-algorithm.png": {
     "image/png": "[encoded data removed]"
    }
   },
   "cell_type": "markdown",
   "id": "e6f29a86",
   "metadata": {},
   "source": [
    "**Naïve Bayes algorithm is a supervised learning algorithm, which is based on Bayes theorem and used for solving classification problems.\n",
    "\n",
    "**It is mainly used in text classification that includes a high-dimensional training dataset.**\n",
    "\n",
    "**Naïve Bayes Classifier is one of the simple and most effective Classification algorithms which helps in building the fast machine learning models that can make quick predictions.**\n",
    "\n",
    "**It is a probabilistic classifier, which means it predicts on the basis of the probability of an object.**\n",
    "\n",
    "**Some popular examples of Naïve Bayes Algorithm are spam filtration, Sentimental analysis, and classifying articles.**\n",
    "\n",
    "**The disadvantage is that Naive Bayes assumes that all features are independent or unrelated, so it cannot learn the relationship between features.**\n",
    "\n",
    "![naive-bayes-classifier-algorithm.png](attachment:naive-bayes-classifier-algorithm.png)"
   ]
  },
  {
   "cell_type": "markdown",
   "id": "cfc488da",
   "metadata": {},
   "source": [
    "# Get and Prepare Dataset"
   ]
  },
  {
   "cell_type": "code",
   "execution_count": 1,
   "id": "86bbfa00",
   "metadata": {},
   "outputs": [],
   "source": [
    "import pandas as pd\n",
    "import numpy as np\n",
    "import matplotlib.pyplot as plt\n",
    "import seaborn as sns\n",
    "from sklearn.model_selection import train_test_split\n",
    "\n",
    "# Get dataset \n",
    "df = pd.read_csv(\"diabetes.csv\")\n",
    "data = df.copy()\n",
    "\n",
    "# Clear null values\n",
    "data = data.dropna()\n",
    "\n",
    "# Declare dependent and independent variables\n",
    "X = data.drop([\"Outcome\"],axis=1)\n",
    "y = data[\"Outcome\"]\n",
    "\n",
    "# Split train and test\n",
    "X_train,X_test,y_train,y_test = train_test_split(X,y,test_size=0.2,random_state=33)\n",
    "\n"
   ]
  },
  {
   "cell_type": "code",
   "execution_count": 2,
   "id": "7b8daec9",
   "metadata": {},
   "outputs": [
    {
     "data": {
      "text/plain": [
       "0    500\n",
       "1    268\n",
       "Name: Outcome, dtype: int64"
      ]
     },
     "execution_count": 2,
     "metadata": {},
     "output_type": "execute_result"
    }
   ],
   "source": [
    "data[\"Outcome\"].value_counts()"
   ]
  },
  {
   "cell_type": "markdown",
   "id": "46cbb4b9",
   "metadata": {},
   "source": [
    "# Import the Model"
   ]
  },
  {
   "cell_type": "code",
   "execution_count": 3,
   "id": "97685b20",
   "metadata": {},
   "outputs": [],
   "source": [
    "from sklearn.naive_bayes import GaussianNB\n",
    "\n",
    "NB = GaussianNB()\n",
    "NB_model = NB.fit(X_train,y_train)"
   ]
  },
  {
   "cell_type": "markdown",
   "id": "a0448cc3",
   "metadata": {},
   "source": [
    "# Prediction,Confusion Matrix and Accuracy Score"
   ]
  },
  {
   "cell_type": "code",
   "execution_count": 12,
   "id": "de8ec30c",
   "metadata": {},
   "outputs": [
    {
     "name": "stdout",
     "output_type": "stream",
     "text": [
      "Test Accuracy Score : 0.7142857142857143\n"
     ]
    }
   ],
   "source": [
    "from sklearn.metrics import accuracy_score,confusion_matrix\n",
    "\n",
    "y_pred = NB_model.predict(X_test)\n",
    "\n",
    "print(f\"Test Accuracy Score : {accuracy_score(y_test,y_pred)}\")"
   ]
  },
  {
   "cell_type": "code",
   "execution_count": 13,
   "id": "8669246b",
   "metadata": {},
   "outputs": [
    {
     "data": {
      "image/png": "[encoded data removed]",
      "text/plain": [
       "<Figure size 432x288 with 2 Axes>"
      ]
     },
     "metadata": {
      "needs_background": "light"
     },
     "output_type": "display_data"
    }
   ],
   "source": [
    "# Confusion Matrix\n",
    "sns.heatmap(confusion_matrix(y_test,y_pred),cmap=\"YlGnBu\",annot=True,fmt=\"d\");"
   ]
  },
  {
   "cell_type": "markdown",
   "id": "174c7ef9",
   "metadata": {},
   "source": [
    "# Model Tuning"
   ]
  },
  {
   "cell_type": "code",
   "execution_count": 14,
   "id": "83a2c416",
   "metadata": {},
   "outputs": [
    {
     "name": "stdout",
     "output_type": "stream",
     "text": [
      "Cross validated accuracy score : 0.6875\n"
     ]
    }
   ],
   "source": [
    "from sklearn.model_selection import cross_val_score\n",
    "\n",
    "cv_score = cross_val_score(NB_model,X_test,y_test,cv=10).mean()\n",
    "print(f\"Cross validated accuracy score : {cross_val_score(NB_model,X_test,y_test,cv=10).mean()}\")"
   ]
  }
 ],
 "metadata": {
  "kernelspec": {
   "display_name": "Python 3 (ipykernel)",
   "language": "python",
   "name": "python3"
  },
  "language_info": {
   "codemirror_mode": {
    "name": "ipython",
    "version": 3
   },
   "file_extension": ".py",
   "mimetype": "text/x-python",
   "name": "python",
   "nbconvert_exporter": "python",
   "pygments_lexer": "ipython3",
   "version": "3.9.12"
  }
 },
 "nbformat": 4,
 "nbformat_minor": 5
}
