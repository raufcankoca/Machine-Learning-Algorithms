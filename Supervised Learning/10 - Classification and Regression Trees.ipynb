{
 "cells": [
  {
   "cell_type": "markdown",
   "id": "d9484922",
   "metadata": {},
   "source": [
    "# 10 - Classification and Regression Trees(CART)"
   ]
  },
  {
   "cell_type": "markdown",
   "id": "1ed7d942",
   "metadata": {},
   "source": [
    "**Classification and Regression Trees or CART for short is a term introduced by Leo Breiman to refer to Decision Tree algorithms that can be used for classification or regression predictive modeling problems.**"
   ]
  },
  {
   "cell_type": "markdown",
   "id": "ab1f9ca8",
   "metadata": {},
   "source": [
    "# Get Dataset"
   ]
  },
  {
   "cell_type": "code",
   "execution_count": 2,
   "id": "9e07de39",
   "metadata": {},
   "outputs": [
    {
     "name": "stdout",
     "output_type": "stream",
     "text": [
      "False\n"
     ]
    },
    {
     "data": {
      "text/html": [
       "<div>\n",
       "<style scoped>\n",
       "    .dataframe tbody tr th:only-of-type {\n",
       "        vertical-align: middle;\n",
       "    }\n",
       "\n",
       "    .dataframe tbody tr th {\n",
       "        vertical-align: top;\n",
       "    }\n",
       "\n",
       "    .dataframe thead th {\n",
       "        text-align: right;\n",
       "    }\n",
       "</style>\n",
       "<table border=\"1\" class=\"dataframe\">\n",
       "  <thead>\n",
       "    <tr style=\"text-align: right;\">\n",
       "      <th></th>\n",
       "      <th>AtBat</th>\n",
       "      <th>Hits</th>\n",
       "      <th>HmRun</th>\n",
       "      <th>Runs</th>\n",
       "      <th>RBI</th>\n",
       "      <th>Walks</th>\n",
       "      <th>Years</th>\n",
       "      <th>CAtBat</th>\n",
       "      <th>CHits</th>\n",
       "      <th>CHmRun</th>\n",
       "      <th>CRuns</th>\n",
       "      <th>CRBI</th>\n",
       "      <th>CWalks</th>\n",
       "      <th>League</th>\n",
       "      <th>Division</th>\n",
       "      <th>PutOuts</th>\n",
       "      <th>Assists</th>\n",
       "      <th>Errors</th>\n",
       "      <th>Salary</th>\n",
       "      <th>NewLeague</th>\n",
       "    </tr>\n",
       "  </thead>\n",
       "  <tbody>\n",
       "    <tr>\n",
       "      <th>1</th>\n",
       "      <td>315</td>\n",
       "      <td>81</td>\n",
       "      <td>7</td>\n",
       "      <td>24</td>\n",
       "      <td>38</td>\n",
       "      <td>39</td>\n",
       "      <td>14</td>\n",
       "      <td>3449</td>\n",
       "      <td>835</td>\n",
       "      <td>69</td>\n",
       "      <td>321</td>\n",
       "      <td>414</td>\n",
       "      <td>375</td>\n",
       "      <td>N</td>\n",
       "      <td>W</td>\n",
       "      <td>632</td>\n",
       "      <td>43</td>\n",
       "      <td>10</td>\n",
       "      <td>475.0</td>\n",
       "      <td>N</td>\n",
       "    </tr>\n",
       "    <tr>\n",
       "      <th>2</th>\n",
       "      <td>479</td>\n",
       "      <td>130</td>\n",
       "      <td>18</td>\n",
       "      <td>66</td>\n",
       "      <td>72</td>\n",
       "      <td>76</td>\n",
       "      <td>3</td>\n",
       "      <td>1624</td>\n",
       "      <td>457</td>\n",
       "      <td>63</td>\n",
       "      <td>224</td>\n",
       "      <td>266</td>\n",
       "      <td>263</td>\n",
       "      <td>A</td>\n",
       "      <td>W</td>\n",
       "      <td>880</td>\n",
       "      <td>82</td>\n",
       "      <td>14</td>\n",
       "      <td>480.0</td>\n",
       "      <td>A</td>\n",
       "    </tr>\n",
       "    <tr>\n",
       "      <th>3</th>\n",
       "      <td>496</td>\n",
       "      <td>141</td>\n",
       "      <td>20</td>\n",
       "      <td>65</td>\n",
       "      <td>78</td>\n",
       "      <td>37</td>\n",
       "      <td>11</td>\n",
       "      <td>5628</td>\n",
       "      <td>1575</td>\n",
       "      <td>225</td>\n",
       "      <td>828</td>\n",
       "      <td>838</td>\n",
       "      <td>354</td>\n",
       "      <td>N</td>\n",
       "      <td>E</td>\n",
       "      <td>200</td>\n",
       "      <td>11</td>\n",
       "      <td>3</td>\n",
       "      <td>500.0</td>\n",
       "      <td>N</td>\n",
       "    </tr>\n",
       "    <tr>\n",
       "      <th>4</th>\n",
       "      <td>321</td>\n",
       "      <td>87</td>\n",
       "      <td>10</td>\n",
       "      <td>39</td>\n",
       "      <td>42</td>\n",
       "      <td>30</td>\n",
       "      <td>2</td>\n",
       "      <td>396</td>\n",
       "      <td>101</td>\n",
       "      <td>12</td>\n",
       "      <td>48</td>\n",
       "      <td>46</td>\n",
       "      <td>33</td>\n",
       "      <td>N</td>\n",
       "      <td>E</td>\n",
       "      <td>805</td>\n",
       "      <td>40</td>\n",
       "      <td>4</td>\n",
       "      <td>91.5</td>\n",
       "      <td>N</td>\n",
       "    </tr>\n",
       "    <tr>\n",
       "      <th>5</th>\n",
       "      <td>594</td>\n",
       "      <td>169</td>\n",
       "      <td>4</td>\n",
       "      <td>74</td>\n",
       "      <td>51</td>\n",
       "      <td>35</td>\n",
       "      <td>11</td>\n",
       "      <td>4408</td>\n",
       "      <td>1133</td>\n",
       "      <td>19</td>\n",
       "      <td>501</td>\n",
       "      <td>336</td>\n",
       "      <td>194</td>\n",
       "      <td>A</td>\n",
       "      <td>W</td>\n",
       "      <td>282</td>\n",
       "      <td>421</td>\n",
       "      <td>25</td>\n",
       "      <td>750.0</td>\n",
       "      <td>A</td>\n",
       "    </tr>\n",
       "  </tbody>\n",
       "</table>\n",
       "</div>"
      ],
      "text/plain": [
       "   AtBat  Hits  HmRun  Runs  RBI  Walks  Years  CAtBat  CHits  CHmRun  CRuns  \\\n",
       "1    315    81      7    24   38     39     14    3449    835      69    321   \n",
       "2    479   130     18    66   72     76      3    1624    457      63    224   \n",
       "3    496   141     20    65   78     37     11    5628   1575     225    828   \n",
       "4    321    87     10    39   42     30      2     396    101      12     48   \n",
       "5    594   169      4    74   51     35     11    4408   1133      19    501   \n",
       "\n",
       "   CRBI  CWalks League Division  PutOuts  Assists  Errors  Salary NewLeague  \n",
       "1   414     375      N        W      632       43      10   475.0         N  \n",
       "2   266     263      A        W      880       82      14   480.0         A  \n",
       "3   838     354      N        E      200       11       3   500.0         N  \n",
       "4    46      33      N        E      805       40       4    91.5         N  \n",
       "5   336     194      A        W      282      421      25   750.0         A  "
      ]
     },
     "execution_count": 2,
     "metadata": {},
     "output_type": "execute_result"
    }
   ],
   "source": [
    "import pandas as pd\n",
    "import numpy as np\n",
    "import matplotlib.pyplot as plt\n",
    "import seaborn as sns\n",
    "\n",
    "df = pd.read_csv(\"Hitters.csv\")\n",
    "data = df.copy()\n",
    "# Clear null values\n",
    "data = data.dropna()\n",
    "print(data.isnull().values.any())\n",
    "data.head()"
   ]
  },
  {
   "cell_type": "markdown",
   "id": "7d00203c",
   "metadata": {},
   "source": [
    "# Create Dummy Variable"
   ]
  },
  {
   "cell_type": "code",
   "execution_count": 3,
   "id": "acd38c2a",
   "metadata": {},
   "outputs": [
    {
     "data": {
      "text/html": [
       "<div>\n",
       "<style scoped>\n",
       "    .dataframe tbody tr th:only-of-type {\n",
       "        vertical-align: middle;\n",
       "    }\n",
       "\n",
       "    .dataframe tbody tr th {\n",
       "        vertical-align: top;\n",
       "    }\n",
       "\n",
       "    .dataframe thead th {\n",
       "        text-align: right;\n",
       "    }\n",
       "</style>\n",
       "<table border=\"1\" class=\"dataframe\">\n",
       "  <thead>\n",
       "    <tr style=\"text-align: right;\">\n",
       "      <th></th>\n",
       "      <th>League_A</th>\n",
       "      <th>League_N</th>\n",
       "      <th>Division_E</th>\n",
       "      <th>Division_W</th>\n",
       "      <th>NewLeague_A</th>\n",
       "      <th>NewLeague_N</th>\n",
       "    </tr>\n",
       "  </thead>\n",
       "  <tbody>\n",
       "    <tr>\n",
       "      <th>1</th>\n",
       "      <td>0</td>\n",
       "      <td>1</td>\n",
       "      <td>0</td>\n",
       "      <td>1</td>\n",
       "      <td>0</td>\n",
       "      <td>1</td>\n",
       "    </tr>\n",
       "    <tr>\n",
       "      <th>2</th>\n",
       "      <td>1</td>\n",
       "      <td>0</td>\n",
       "      <td>0</td>\n",
       "      <td>1</td>\n",
       "      <td>1</td>\n",
       "      <td>0</td>\n",
       "    </tr>\n",
       "    <tr>\n",
       "      <th>3</th>\n",
       "      <td>0</td>\n",
       "      <td>1</td>\n",
       "      <td>1</td>\n",
       "      <td>0</td>\n",
       "      <td>0</td>\n",
       "      <td>1</td>\n",
       "    </tr>\n",
       "    <tr>\n",
       "      <th>4</th>\n",
       "      <td>0</td>\n",
       "      <td>1</td>\n",
       "      <td>1</td>\n",
       "      <td>0</td>\n",
       "      <td>0</td>\n",
       "      <td>1</td>\n",
       "    </tr>\n",
       "    <tr>\n",
       "      <th>5</th>\n",
       "      <td>1</td>\n",
       "      <td>0</td>\n",
       "      <td>0</td>\n",
       "      <td>1</td>\n",
       "      <td>1</td>\n",
       "      <td>0</td>\n",
       "    </tr>\n",
       "  </tbody>\n",
       "</table>\n",
       "</div>"
      ],
      "text/plain": [
       "   League_A  League_N  Division_E  Division_W  NewLeague_A  NewLeague_N\n",
       "1         0         1           0           1            0            1\n",
       "2         1         0           0           1            1            0\n",
       "3         0         1           1           0            0            1\n",
       "4         0         1           1           0            0            1\n",
       "5         1         0           0           1            1            0"
      ]
     },
     "execution_count": 3,
     "metadata": {},
     "output_type": "execute_result"
    }
   ],
   "source": [
    "dummies = pd.get_dummies(data[[\"League\",\"Division\",\"NewLeague\"]])\n",
    "dummies.head()"
   ]
  },
  {
   "cell_type": "code",
   "execution_count": 4,
   "id": "7a662202",
   "metadata": {},
   "outputs": [
    {
     "data": {
      "text/html": [
       "<div>\n",
       "<style scoped>\n",
       "    .dataframe tbody tr th:only-of-type {\n",
       "        vertical-align: middle;\n",
       "    }\n",
       "\n",
       "    .dataframe tbody tr th {\n",
       "        vertical-align: top;\n",
       "    }\n",
       "\n",
       "    .dataframe thead th {\n",
       "        text-align: right;\n",
       "    }\n",
       "</style>\n",
       "<table border=\"1\" class=\"dataframe\">\n",
       "  <thead>\n",
       "    <tr style=\"text-align: right;\">\n",
       "      <th></th>\n",
       "      <th>AtBat</th>\n",
       "      <th>Hits</th>\n",
       "      <th>HmRun</th>\n",
       "      <th>Runs</th>\n",
       "      <th>RBI</th>\n",
       "      <th>Walks</th>\n",
       "      <th>Years</th>\n",
       "      <th>CAtBat</th>\n",
       "      <th>CHits</th>\n",
       "      <th>CHmRun</th>\n",
       "      <th>CRuns</th>\n",
       "      <th>CRBI</th>\n",
       "      <th>CWalks</th>\n",
       "      <th>PutOuts</th>\n",
       "      <th>Assists</th>\n",
       "      <th>Errors</th>\n",
       "      <th>League_N</th>\n",
       "      <th>Division_W</th>\n",
       "      <th>NewLeague_N</th>\n",
       "    </tr>\n",
       "  </thead>\n",
       "  <tbody>\n",
       "    <tr>\n",
       "      <th>1</th>\n",
       "      <td>315.0</td>\n",
       "      <td>81.0</td>\n",
       "      <td>7.0</td>\n",
       "      <td>24.0</td>\n",
       "      <td>38.0</td>\n",
       "      <td>39.0</td>\n",
       "      <td>14.0</td>\n",
       "      <td>3449.0</td>\n",
       "      <td>835.0</td>\n",
       "      <td>69.0</td>\n",
       "      <td>321.0</td>\n",
       "      <td>414.0</td>\n",
       "      <td>375.0</td>\n",
       "      <td>632.0</td>\n",
       "      <td>43.0</td>\n",
       "      <td>10.0</td>\n",
       "      <td>1</td>\n",
       "      <td>1</td>\n",
       "      <td>1</td>\n",
       "    </tr>\n",
       "    <tr>\n",
       "      <th>2</th>\n",
       "      <td>479.0</td>\n",
       "      <td>130.0</td>\n",
       "      <td>18.0</td>\n",
       "      <td>66.0</td>\n",
       "      <td>72.0</td>\n",
       "      <td>76.0</td>\n",
       "      <td>3.0</td>\n",
       "      <td>1624.0</td>\n",
       "      <td>457.0</td>\n",
       "      <td>63.0</td>\n",
       "      <td>224.0</td>\n",
       "      <td>266.0</td>\n",
       "      <td>263.0</td>\n",
       "      <td>880.0</td>\n",
       "      <td>82.0</td>\n",
       "      <td>14.0</td>\n",
       "      <td>0</td>\n",
       "      <td>1</td>\n",
       "      <td>0</td>\n",
       "    </tr>\n",
       "    <tr>\n",
       "      <th>3</th>\n",
       "      <td>496.0</td>\n",
       "      <td>141.0</td>\n",
       "      <td>20.0</td>\n",
       "      <td>65.0</td>\n",
       "      <td>78.0</td>\n",
       "      <td>37.0</td>\n",
       "      <td>11.0</td>\n",
       "      <td>5628.0</td>\n",
       "      <td>1575.0</td>\n",
       "      <td>225.0</td>\n",
       "      <td>828.0</td>\n",
       "      <td>838.0</td>\n",
       "      <td>354.0</td>\n",
       "      <td>200.0</td>\n",
       "      <td>11.0</td>\n",
       "      <td>3.0</td>\n",
       "      <td>1</td>\n",
       "      <td>0</td>\n",
       "      <td>1</td>\n",
       "    </tr>\n",
       "    <tr>\n",
       "      <th>4</th>\n",
       "      <td>321.0</td>\n",
       "      <td>87.0</td>\n",
       "      <td>10.0</td>\n",
       "      <td>39.0</td>\n",
       "      <td>42.0</td>\n",
       "      <td>30.0</td>\n",
       "      <td>2.0</td>\n",
       "      <td>396.0</td>\n",
       "      <td>101.0</td>\n",
       "      <td>12.0</td>\n",
       "      <td>48.0</td>\n",
       "      <td>46.0</td>\n",
       "      <td>33.0</td>\n",
       "      <td>805.0</td>\n",
       "      <td>40.0</td>\n",
       "      <td>4.0</td>\n",
       "      <td>1</td>\n",
       "      <td>0</td>\n",
       "      <td>1</td>\n",
       "    </tr>\n",
       "    <tr>\n",
       "      <th>5</th>\n",
       "      <td>594.0</td>\n",
       "      <td>169.0</td>\n",
       "      <td>4.0</td>\n",
       "      <td>74.0</td>\n",
       "      <td>51.0</td>\n",
       "      <td>35.0</td>\n",
       "      <td>11.0</td>\n",
       "      <td>4408.0</td>\n",
       "      <td>1133.0</td>\n",
       "      <td>19.0</td>\n",
       "      <td>501.0</td>\n",
       "      <td>336.0</td>\n",
       "      <td>194.0</td>\n",
       "      <td>282.0</td>\n",
       "      <td>421.0</td>\n",
       "      <td>25.0</td>\n",
       "      <td>0</td>\n",
       "      <td>1</td>\n",
       "      <td>0</td>\n",
       "    </tr>\n",
       "  </tbody>\n",
       "</table>\n",
       "</div>"
      ],
      "text/plain": [
       "   AtBat   Hits  HmRun  Runs   RBI  Walks  Years  CAtBat   CHits  CHmRun  \\\n",
       "1  315.0   81.0    7.0  24.0  38.0   39.0   14.0  3449.0   835.0    69.0   \n",
       "2  479.0  130.0   18.0  66.0  72.0   76.0    3.0  1624.0   457.0    63.0   \n",
       "3  496.0  141.0   20.0  65.0  78.0   37.0   11.0  5628.0  1575.0   225.0   \n",
       "4  321.0   87.0   10.0  39.0  42.0   30.0    2.0   396.0   101.0    12.0   \n",
       "5  594.0  169.0    4.0  74.0  51.0   35.0   11.0  4408.0  1133.0    19.0   \n",
       "\n",
       "   CRuns   CRBI  CWalks  PutOuts  Assists  Errors  League_N  Division_W  \\\n",
       "1  321.0  414.0   375.0    632.0     43.0    10.0         1           1   \n",
       "2  224.0  266.0   263.0    880.0     82.0    14.0         0           1   \n",
       "3  828.0  838.0   354.0    200.0     11.0     3.0         1           0   \n",
       "4   48.0   46.0    33.0    805.0     40.0     4.0         1           0   \n",
       "5  501.0  336.0   194.0    282.0    421.0    25.0         0           1   \n",
       "\n",
       "   NewLeague_N  \n",
       "1            1  \n",
       "2            0  \n",
       "3            1  \n",
       "4            1  \n",
       "5            0  "
      ]
     },
     "execution_count": 4,
     "metadata": {},
     "output_type": "execute_result"
    }
   ],
   "source": [
    "y = data[\"Salary\"]\n",
    "\n",
    "X_pre = data.drop([\"Salary\",\"League\",\"Division\",\"NewLeague\"],axis=1).astype(\"float64\")\n",
    "X = pd.concat([X_pre,dummies[[\"League_N\",\"Division_W\",\"NewLeague_N\"]]],axis=1)\n",
    "X.head()"
   ]
  },
  {
   "cell_type": "markdown",
   "id": "bfc85a02",
   "metadata": {},
   "source": [
    "# Split train and test"
   ]
  },
  {
   "cell_type": "code",
   "execution_count": 5,
   "id": "f044932c",
   "metadata": {},
   "outputs": [
    {
     "name": "stdout",
     "output_type": "stream",
     "text": [
      "(210, 19)\n",
      "(210,)\n",
      "(53, 19)\n",
      "(53,)\n"
     ]
    }
   ],
   "source": [
    " "
   ]
  },
  {
   "cell_type": "markdown",
   "id": "1e5321db",
   "metadata": {},
   "source": [
    "# Import model"
   ]
  },
  {
   "cell_type": "code",
   "execution_count": 6,
   "id": "38d9f728",
   "metadata": {},
   "outputs": [
    {
     "data": {
      "text/plain": [
       "DecisionTreeRegressor()"
      ]
     },
     "execution_count": 6,
     "metadata": {},
     "output_type": "execute_result"
    }
   ],
   "source": [
    "from sklearn.tree import DecisionTreeRegressor\n",
    "\n",
    "cart_model = DecisionTreeRegressor().fit(X_train,y_train)\n",
    "cart_model"
   ]
  },
  {
   "cell_type": "code",
   "execution_count": 14,
   "id": "65a9cd89",
   "metadata": {},
   "outputs": [
    {
     "name": "stdout",
     "output_type": "stream",
     "text": [
      "(if (x[11] <= 307.5) then (if (x[5] <= 0.5) then 2127.333 else (if (x[7] <= 1322.0) then (if (x[7] <= 100.0) then 920.0 else (if (x[8] <= 182.0) then (if (x[11] <= 72.5) then (if (x[0] <= 153.5) then 190.0 else (if (x[7] <= 341.5) then (if (x[18] <= 0.5) then (if (x[15] <= 6.0) then (if (x[12] <= 28.5) then 68.0 else 67.5) else 70.0) else (if (x[0] <= 244.0) then (if (x[14] <= 3.0) then 86.5 else 90.0) else 75.0)) else (if (x[16] <= 0.5) then (if (x[7] <= 511.5) then (if (x[12] <= 25.0) then (if (x[8] <= 110.5) then (if (x[6] <= 2.0) then 97.5 else 100.0) else 90.0) else (if (x[11] <= 41.0) then (if (x[4] <= 32.5) then 100.0 else 105.0) else (if (x[13] <= 294.0) then 110.0 else (if (x[3] <= 40.5) then 120.0 else 115.0)))) else (if (x[11] <= 35.5) then 87.5 else (if (x[4] <= 28.0) then 75.0 else 80.0))) else (if (x[13] <= 348.5) then (if (x[12] <= 37.5) then (if (x[11] <= 45.0) then (if (x[14] <= 164.0) then 125.0 else 130.0) else 110.0) else (if (x[9] <= 4.0) then 150.0 else 140.0)) else (if (x[6] <= 1.5) then 120.0 else (if (x[2] <= 4.0) then 100.0 else (if (x[2] <= 7.5) then 90.0 else 91.5))))))) else (if (x[9] <= 29.0) then (if (x[11] <= 88.0) then (if (x[13] <= 280.0) then 135.0 else 137.0) else (if (x[9] <= 23.0) then (if (x[1] <= 105.5) then 175.0 else 165.0) else (if (x[1] <= 107.0) then 155.0 else 145.0))) else (if (x[11] <= 98.5) then (if (x[10] <= 84.0) then 172.0 else 180.0) else 215.0))) else (if (x[0] <= 423.0) then (if (x[11] <= 128.5) then (if (x[13] <= 22.0) then 145.0 else (if (x[13] <= 250.0) then (if (x[12] <= 95.5) then (if (x[3] <= 25.0) then 286.667 else (if (x[11] <= 107.5) then (if (x[0] <= 225.5) then 247.5 else 250.0) else 275.0)) else (if (x[2] <= 4.5) then (if (x[10] <= 157.0) then 225.0 else 210.0) else (if (x[13] <= 176.5) then 190.0 else 191.0))) else (if (x[6] <= 4.5) then 300.0 else 305.0))) else (if (x[10] <= 112.5) then 415.0 else (if (x[11] <= 166.5) then (if (x[15] <= 12.5) then 300.0 else 297.5) else 350.0))) else (if (x[15] <= 22.5) then (if (x[7] <= 1011.5) then (if (x[0] <= 573.0) then (if (x[5] <= 39.5) then 185.0 else (if (x[13] <= 266.0) then 195.0 else (if (x[5] <= 59.0) then 202.5 else 200.0))) else (if (x[9] <= 36.0) then 210.0 else 215.0)) else (if (x[18] <= 0.5) then 175.0 else 160.0)) else (if (x[5] <= 37.5) then 155.0 else 105.0))))) else (if (x[5] <= 60.5) then (if (x[8] <= 877.0) then (if (x[11] <= 114.0) then (if (x[9] <= 8.5) then 700.0 else 708.333) else (if (x[8] <= 661.0) then (if (x[10] <= 217.0) then (if (x[0] <= 485.0) then (if (x[13] <= 227.5) then (if (x[13] <= 154.5) then (if (x[3] <= 27.0) then 425.0 else (if (x[10] <= 165.0) then 340.0 else (if (x[9] <= 11.5) then 375.0 else 362.5))) else (if (x[3] <= 41.0) then 240.0 else (if (x[9] <= 19.5) then 326.667 else 300.0))) else (if (x[11] <= 211.0) then (if (x[14] <= 26.0) then 550.0 else (if (x[6] <= 6.5) then 475.0 else 512.5)) else 385.0)) else (if (x[11] <= 153.5) then 350.0 else (if (x[15] <= 16.5) then (if (x[1] <= 181.5) then 200.0 else 250.0) else (if (x[8] <= 384.5) then 160.0 else 100.0)))) else (if (x[15] <= 8.0) then (if (x[18] <= 0.5) then (if (x[10] <= 273.5) then (if (x[15] <= 3.0) then 425.0 else 365.0) else (if (x[0] <= 220.5) then 275.0 else (if (x[15] <= 5.5) then 325.0 else 341.667))) else (if (x[5] <= 37.5) then (if (x[2] <= 10.0) then 525.0 else 490.0) else 630.0)) else (if (x[9] <= 57.0) then (if (x[11] <= 187.5) then 475.0 else (if (x[2] <= 14.5) then (if (x[12] <= 202.5) then 580.0 else 595.0) else 640.0)) else 780.0))) else (if (x[5] <= 44.5) then (if (x[12] <= 218.0) then 250.0 else 240.0) else 90.0))) else (if (x[4] <= 38.5) then 875.0 else 750.0)) else (if (x[4] <= 51.5) then (if (x[4] <= 31.5) then 875.0 else (if (x[4] <= 42.5) then 625.0 else (if (x[11] <= 200.0) then (if (x[10] <= 343.5) then 750.0 else 765.0) else 700.0))) else (if (x[5] <= 75.0) then (if (x[13] <= 317.5) then 575.0 else (if (x[3] <= 74.5) then 600.0 else 625.0)) else (if (x[12] <= 227.0) then 425.0 else 480.0)))))) else (if (x[5] <= 61.0) then (if (x[13] <= 1113.5) then (if (x[0] <= 362.0) then (if (x[13] <= 45.0) then 1050.0 else (if (x[6] <= 10.5) then (if (x[0] <= 335.0) then (if (x[0] <= 328.0) then (if (x[0] <= 227.5) then 900.0 else (if (x[10] <= 541.0) then (if (x[4] <= 43.5) then 737.5 else 750.0) else 800.0)) else 600.0) else (if (x[6] <= 9.5) then 560.0 else 100.0)) else (if (x[12] <= 1311.5) then (if (x[6] <= 15.5) then (if (x[9] <= 34.0) then 250.0 else (if (x[11] <= 483.5) then (if (x[5] <= 17.5) then (if (x[4] <= 34.0) then 400.0 else 416.667) else (if (x[10] <= 370.0) then 475.0 else (if (x[6] <= 13.5) then 450.0 else 430.0))) else (if (x[9] <= 105.5) then 600.0 else 450.0))) else (if (x[3] <= 15.5) then 500.0 else (if (x[3] <= 39.0) then (if (x[1] <= 52.5) then (if (x[2] <= 9.0) then 275.0 else 260.0) else (if (x[0] <= 283.5) then 235.0 else 200.0)) else (if (x[5] <= 35.5) then 320.0 else 400.0)))) else 750.0))) else (if (x[0] <= 585.0) then (if (x[1] <= 138.5) then (if (x[14] <= 24.0) then (if (x[15] <= 2.0) then (if (x[0] <= 422.0) then 600.0 else 587.5) else (if (x[8] <= 1700.5) then (if (x[1] <= 114.0) then 675.0 else 700.0) else (if (x[1] <= 114.5) then 733.333 else 773.333))) else (if (x[3] <= 59.5) then (if (x[12] <= 240.0) then 750.0 else (if (x[10] <= 931.0) then (if (x[13] <= 495.0) then 850.0 else 825.0) else 875.0)) else (if (x[0] <= 474.5) then 1260.0 else (if (x[12] <= 387.0) then 1008.333 else 850.0)))) else (if (x[1] <= 147.5) then (if (x[10] <= 356.0) then 277.5 else (if (x[6] <= 13.0) then 500.0 else 525.0)) else (if (x[5] <= 40.0) then (if (x[4] <= 73.0) then 1000.0 else 950.0) else (if (x[4] <= 76.5) then (if (x[8] <= 1070.5) then 530.0 else 517.143) else (if (x[8] <= 1291.5) then (if (x[15] <= 2.0) then 700.0 else (if (x[5] <= 50.0) then 662.5 else 657.0)) else 750.0))))) else (if (x[14] <= 152.0) then (if (x[3] <= 78.5) then (if (x[2] <= 17.5) then (if (x[14] <= 8.5) then 1000.0 else 1043.333) else 940.0) else (if (x[17] <= 0.5) then 1175.0 else 1200.0)) else (if (x[14] <= 433.0) then (if (x[9] <= 95.5) then 775.0 else 776.667) else 740.0)))) else (if (x[10] <= 743.5) then 1975.0 else 1450.0)) else (if (x[11] <= 1206.5) then (if (x[13] <= 838.5) then (if (x[1] <= 159.0) then (if (x[2] <= 1.0) then 1940.0 else (if (x[15] <= 10.5) then (if (x[1] <= 120.0) then 1300.0 else (if (x[10] <= 1158.0) then (if (x[1] <= 143.5) then (if (x[17] <= 0.5) then (if (x[2] <= 28.5) then (if (x[8] <= 1329.5) then 925.0 else 933.333) else 950.0) else 900.0) else (if (x[12] <= 320.0) then 815.0 else (if (x[13] <= 238.0) then 775.0 else 787.5))) else 535.0)) else (if (x[6] <= 9.5) then 535.0 else 420.0))) else (if (x[12] <= 365.0) then (if (x[12] <= 275.5) then 1237.5 else 1350.0) else (if (x[8] <= 1285.0) then (if (x[7] <= 3424.5) then 1600.0 else 1670.0) else 1900.0))) else (if (x[7] <= 4220.0) then (if (x[11] <= 420.0) then 1300.0 else 1310.0) else (if (x[11] <= 1007.0) then (if (x[15] <= 6.5) then 1800.0 else 1925.571) else 2460.0))) else (if (x[2] <= 22.0) then 2412.5 else 1861.46))))\n"
     ]
    }
   ],
   "source": [
    "from skompiler import skompile\n",
    "\n",
    "print(skompile(cart_model.predict))"
   ]
  },
  {
   "cell_type": "markdown",
   "id": "581e07b8",
   "metadata": {},
   "source": [
    "# Model Tuning"
   ]
  },
  {
   "cell_type": "code",
   "execution_count": 19,
   "id": "159fe4e8",
   "metadata": {},
   "outputs": [
    {
     "data": {
      "text/plain": [
       "GridSearchCV(cv=10, estimator=DecisionTreeRegressor(),\n",
       "             param_grid={'max_leaf_nodes': range(2, 10),\n",
       "                         'min_samples_split': range(2, 10)})"
      ]
     },
     "execution_count": 19,
     "metadata": {},
     "output_type": "execute_result"
    }
   ],
   "source": [
    "from sklearn.model_selection import GridSearchCV\n",
    "from sklearn.metrics import mean_squared_error\n",
    "\n",
    "cart = DecisionTreeRegressor()\n",
    "cart_params = {\"min_samples_split\":range(2,10),\n",
    "              \"max_leaf_nodes\":range(2,10)}\n",
    "\n",
    "cart_cv_model = GridSearchCV(cart,cart_params,cv=10)\n",
    "cart_cv_model.fit(X_train,y_train)"
   ]
  },
  {
   "cell_type": "code",
   "execution_count": 20,
   "id": "3fd868e9",
   "metadata": {},
   "outputs": [
    {
     "data": {
      "text/plain": [
       "{'max_leaf_nodes': 5, 'min_samples_split': 3}"
      ]
     },
     "execution_count": 20,
     "metadata": {},
     "output_type": "execute_result"
    }
   ],
   "source": [
    "cart_cv_model.best_params_"
   ]
  },
  {
   "cell_type": "markdown",
   "id": "f59023d5",
   "metadata": {},
   "source": [
    "# Tuned Model"
   ]
  },
  {
   "cell_type": "code",
   "execution_count": 23,
   "id": "320cf869",
   "metadata": {},
   "outputs": [
    {
     "name": "stdout",
     "output_type": "stream",
     "text": [
      "MSE Tuned Loss = 60821.80906524021\n",
      "RMSE Tuned Loss = 246.620779873149\n"
     ]
    }
   ],
   "source": [
    "cart_tuned = DecisionTreeRegressor(max_leaf_nodes=5,min_samples_leaf=8).fit(X_train,y_train)\n",
    "\n",
    "# Prediction with tuned model\n",
    "y_pred_tuned = cart_tuned.predict(X_test)\n",
    "mse_tuned = mean_squared_error(y_test,y_pred_tuned)\n",
    "rmse_tuned = np.sqrt(mse_tuned)\n",
    "\n",
    "print(f\"MSE Tuned Loss = {mse_tuned}\")\n",
    "print(f\"RMSE Tuned Loss = {rmse_tuned}\")"
   ]
  }
 ],
 "metadata": {
  "kernelspec": {
   "display_name": "Python 3 (ipykernel)",
   "language": "python",
   "name": "python3"
  },
  "language_info": {
   "codemirror_mode": {
    "name": "ipython",
    "version": 3
   },
   "file_extension": ".py",
   "mimetype": "text/x-python",
   "name": "python",
   "nbconvert_exporter": "python",
   "pygments_lexer": "ipython3",
   "version": "3.9.12"
  }
 },
 "nbformat": 4,
 "nbformat_minor": 5
}
