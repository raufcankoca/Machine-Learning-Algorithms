{
 "cells": [
  {
   "cell_type": "markdown",
   "id": "cbdb5354",
   "metadata": {},
   "source": [
    "# 15 - KNN Classifier"
   ]
  },
  {
   "cell_type": "markdown",
   "id": "7fb8a1e1",
   "metadata": {},
   "source": [
    "**K-Nearest Neighbour is one of the simplest Machine Learning algorithms based on Supervised Learning technique.**\n",
    "\n",
    "**K-NN algorithm assumes the similarity between the new case/data and available cases and put the new case into the category that is most similar to the available categories.**\n",
    "\n",
    "\n",
    "**K-NN algorithm stores all the available data and classifies a new data point based on the similarity. This means when new data appears then it can be easily classified into a well suite category by using K- NN algorithm.**\n",
    "\n",
    "**K-NN algorithm can be used for Regression as well as for Classification but mostly it is used for the Classification problems.**"
   ]
  },
  {
   "cell_type": "markdown",
   "id": "d42bef33",
   "metadata": {},
   "source": [
    "# Get and Prepare Dataset"
   ]
  },
  {
   "cell_type": "code",
   "execution_count": 1,
   "id": "309cf298",
   "metadata": {},
   "outputs": [],
   "source": [
    "import pandas as pd\n",
    "import numpy as np\n",
    "import matplotlib.pyplot as plt\n",
    "import seaborn as sns\n",
    "from sklearn.model_selection import train_test_split\n",
    "\n",
    "# Get dataset \n",
    "df = pd.read_csv(\"diabetes.csv\")\n",
    "data = df.copy()\n",
    "\n",
    "# Clear null values\n",
    "data = data.dropna()\n",
    "\n",
    "# Declare dependent and independent variables\n",
    "X = data.drop([\"Outcome\"],axis=1)\n",
    "y = data[\"Outcome\"]\n",
    "\n",
    "# Split train and test\n",
    "X_train,X_test,y_train,y_test = train_test_split(X,y,test_size=0.2,random_state=33)\n"
   ]
  },
  {
   "cell_type": "code",
   "execution_count": 2,
   "id": "44ef7182",
   "metadata": {},
   "outputs": [
    {
     "data": {
      "text/plain": [
       "0    500\n",
       "1    268\n",
       "Name: Outcome, dtype: int64"
      ]
     },
     "execution_count": 2,
     "metadata": {},
     "output_type": "execute_result"
    }
   ],
   "source": [
    "data[\"Outcome\"].value_counts()"
   ]
  },
  {
   "cell_type": "code",
   "execution_count": 3,
   "id": "57dcebc5",
   "metadata": {},
   "outputs": [
    {
     "data": {
      "text/plain": [
       "<AxesSubplot:xlabel='count', ylabel='Outcome'>"
      ]
     },
     "execution_count": 3,
     "metadata": {},
     "output_type": "execute_result"
    },
    {
     "data": {
      "image/png": "[encoded data removed]",
      "text/plain": [
       "<Figure size 432x288 with 1 Axes>"
      ]
     },
     "metadata": {
      "needs_background": "light"
     },
     "output_type": "display_data"
    }
   ],
   "source": [
    "sns.countplot(y=\"Outcome\",data=data)"
   ]
  },
  {
   "cell_type": "markdown",
   "id": "35a4f105",
   "metadata": {},
   "source": [
    "# Import the Model"
   ]
  },
  {
   "cell_type": "code",
   "execution_count": 4,
   "id": "6e001e8a",
   "metadata": {},
   "outputs": [
    {
     "data": {
      "text/plain": [
       "{'algorithm': 'auto',\n",
       " 'leaf_size': 30,\n",
       " 'metric': 'minkowski',\n",
       " 'metric_params': None,\n",
       " 'n_jobs': None,\n",
       " 'n_neighbors': 5,\n",
       " 'p': 2,\n",
       " 'weights': 'uniform'}"
      ]
     },
     "execution_count": 4,
     "metadata": {},
     "output_type": "execute_result"
    }
   ],
   "source": [
    "from sklearn.neighbors import KNeighborsClassifier\n",
    "\n",
    "knn = KNeighborsClassifier()\n",
    "knn_model = knn.fit(X_train,y_train)\n",
    "knn_model.get_params()"
   ]
  },
  {
   "cell_type": "code",
   "execution_count": 6,
   "id": "0fcc6e68",
   "metadata": {},
   "outputs": [
    {
     "name": "stdout",
     "output_type": "stream",
     "text": [
      "Test Accuracy Score : 0.7077922077922078\n"
     ]
    }
   ],
   "source": [
    "from sklearn.metrics import accuracy_score,classification_report\n",
    "\n",
    "y_pred = knn_model.predict(X_test)\n",
    "print(f\"Test Accuracy Score : {accuracy_score(y_test,y_pred)}\")"
   ]
  },
  {
   "cell_type": "code",
   "execution_count": 8,
   "id": "67033331",
   "metadata": {},
   "outputs": [
    {
     "name": "stdout",
     "output_type": "stream",
     "text": [
      "              precision    recall  f1-score   support\n",
      "\n",
      "           0       0.74      0.84      0.79        99\n",
      "           1       0.62      0.47      0.54        55\n",
      "\n",
      "    accuracy                           0.71       154\n",
      "   macro avg       0.68      0.66      0.66       154\n",
      "weighted avg       0.70      0.71      0.70       154\n",
      "\n"
     ]
    }
   ],
   "source": [
    "print(classification_report(y_test,y_pred))"
   ]
  },
  {
   "cell_type": "markdown",
   "id": "7a4663d9",
   "metadata": {},
   "source": [
    "# Model Tuning"
   ]
  },
  {
   "cell_type": "markdown",
   "id": "4efa7da0",
   "metadata": {},
   "source": [
    "**Hyperparameter --> Number of neighbors**"
   ]
  },
  {
   "cell_type": "code",
   "execution_count": 9,
   "id": "3bf73785",
   "metadata": {},
   "outputs": [
    {
     "data": {
      "text/plain": [
       "GridSearchCV(cv=10, estimator=KNeighborsClassifier(),\n",
       "             param_grid={'n_neighbors': array([ 1,  2,  3,  4,  5,  6,  7,  8,  9, 10, 11, 12, 13, 14, 15, 16, 17,\n",
       "       18, 19])})"
      ]
     },
     "execution_count": 9,
     "metadata": {},
     "output_type": "execute_result"
    }
   ],
   "source": [
    "from sklearn.model_selection import GridSearchCV\n",
    "\n",
    "knn = KNeighborsClassifier()\n",
    "knn_params = {\"n_neighbors\":np.arange(1,20)}\n",
    "\n",
    "knn_cv_model = GridSearchCV(knn,knn_params,cv=10)\n",
    "knn_cv_model.fit(X_train,y_train)"
   ]
  },
  {
   "cell_type": "code",
   "execution_count": 15,
   "id": "5688f09d",
   "metadata": {},
   "outputs": [
    {
     "name": "stdout",
     "output_type": "stream",
     "text": [
      "Optimum number of neighbors : 16\n",
      "Cross-validated Accuracy Score : 0.76\n"
     ]
    }
   ],
   "source": [
    "print(f\"Optimum number of neighbors : {knn_cv_model.best_params_['n_neighbors']}\")\n",
    "print(\"Cross-validated Accuracy Score : %.2f\" % (knn_cv_model.best_score_))"
   ]
  },
  {
   "cell_type": "markdown",
   "id": "1247e8bb",
   "metadata": {},
   "source": [
    "# Tuned Model"
   ]
  },
  {
   "cell_type": "code",
   "execution_count": 16,
   "id": "b66f5ffd",
   "metadata": {},
   "outputs": [],
   "source": [
    "knn_tuned_model = KNeighborsClassifier(n_neighbors=16).fit(X_train,y_train)"
   ]
  },
  {
   "cell_type": "code",
   "execution_count": 20,
   "id": "4c192538",
   "metadata": {},
   "outputs": [
    {
     "name": "stdout",
     "output_type": "stream",
     "text": [
      "Tuned Test Accuracy Score : 0.727\n"
     ]
    }
   ],
   "source": [
    "y_pred_tuned = knn_tuned_model.predict(X_test)\n",
    "print(\"Tuned Test Accuracy Score : %.3f\" % (accuracy_score(y_test,y_pred_tuned)))"
   ]
  },
  {
   "cell_type": "code",
   "execution_count": 21,
   "id": "0ab75b00",
   "metadata": {},
   "outputs": [
    {
     "data": {
      "text/plain": [
       "0.7272727272727273"
      ]
     },
     "execution_count": 21,
     "metadata": {},
     "output_type": "execute_result"
    }
   ],
   "source": [
    "knn_tuned_model.score(X_test,y_test)"
   ]
  }
 ],
 "metadata": {
  "kernelspec": {
   "display_name": "Python 3 (ipykernel)",
   "language": "python",
   "name": "python3"
  },
  "language_info": {
   "codemirror_mode": {
    "name": "ipython",
    "version": 3
   },
   "file_extension": ".py",
   "mimetype": "text/x-python",
   "name": "python",
   "nbconvert_exporter": "python",
   "pygments_lexer": "ipython3",
   "version": "3.9.12"
  }
 },
 "nbformat": 4,
 "nbformat_minor": 5
}
